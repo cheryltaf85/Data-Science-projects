{
 "cells": [
  {
   "cell_type": "markdown",
   "metadata": {},
   "source": [
    "* Chapter 5 and 6 Exercise\n",
    "* Cheryl Machingura"
   ]
  },
  {
   "cell_type": "code",
   "execution_count": 23,
   "metadata": {
    "colab": {
     "base_uri": "https://localhost:8080/"
    },
    "id": "rdtsF0jy3PlH",
    "outputId": "03e78224-6631-4f04-892e-a2cce15490f4"
   },
   "outputs": [],
   "source": [
    "from os.path import basename, exists\n",
    "\n",
    "def download(url):\n",
    "    filename = basename(url)\n",
    "    if not exists(filename):\n",
    "        from urllib.request import urlretrieve\n",
    "\n",
    "        local, _ = urlretrieve(url, filename)\n",
    "        print(\"Downloaded \" + local)\n",
    "\n",
    "download(\"https://github.com/AllenDowney/ThinkStats2/raw/master/code/thinkstats2.py\")\n",
    "download(\"https://github.com/AllenDowney/ThinkStats2/raw/master/code/thinkplot.py\")\n",
    "download(\"https://github.com/AllenDowney/ThinkStats2/raw/master/code/nsfg.py\")\n",
    "download(\"https://github.com/AllenDowney/ThinkStats2/raw/master/code/2002FemPreg.dct\")\n",
    "download(\"https://github.com/AllenDowney/ThinkStats2/raw/master/code/2002FemPreg.dat.gz\")\n",
    "download(\"https://github.com/AllenDowney/ThinkStats2/raw/master/code/hinc2.py\")"
   ]
  },
  {
   "cell_type": "markdown",
   "metadata": {
    "id": "Tn0nOQb_9JDn"
   },
   "source": [
    "## Exercise 5-1\n"
   ]
  },
  {
   "cell_type": "code",
   "execution_count": 25,
   "metadata": {},
   "outputs": [],
   "source": [
    "import numpy as np\n",
    "import pandas as pd\n",
    "import scipy.stats as stats\n",
    "import matplotlib.pyplot as plt"
   ]
  },
  {
   "cell_type": "markdown",
   "metadata": {},
   "source": [
    "Normal Distribution for Heights"
   ]
  },
  {
   "cell_type": "code",
   "execution_count": 27,
   "metadata": {},
   "outputs": [],
   "source": [
    "mu_men = 178\n",
    "sigma_men = 7.7"
   ]
  },
  {
   "cell_type": "markdown",
   "metadata": {},
   "source": [
    "Convert heights from feet to inches to cm"
   ]
  },
  {
   "cell_type": "code",
   "execution_count": 29,
   "metadata": {},
   "outputs": [],
   "source": [
    "height_min_cm = 5 * 30.48 + 10 + 2.54   # 5'10\"\n",
    "height_max_cm = 6 * 30.48 + 1 * 2.54    # 6'1\""
   ]
  },
  {
   "cell_type": "markdown",
   "metadata": {},
   "source": [
    "Calculate the CDF for the given range"
   ]
  },
  {
   "cell_type": "code",
   "execution_count": 30,
   "metadata": {},
   "outputs": [],
   "source": [
    "p_min = stats.norm.cdf(height_min_cm, mu_men, sigma_men)\n",
    "p_max = stats.norm.cdf(height_max_cm, mu_men, sigma_men)"
   ]
  },
  {
   "cell_type": "markdown",
   "metadata": {},
   "source": [
    "Percentage of men in the height range"
   ]
  },
  {
   "cell_type": "code",
   "execution_count": 31,
   "metadata": {},
   "outputs": [
    {
     "name": "stdout",
     "output_type": "stream",
     "text": [
      "Percentage of US male population between 5'10\" and 6'1\":78.75%\n"
     ]
    }
   ],
   "source": [
    "percentage_in_range = (p_max - p_min) * 100\n",
    "print(f\"Percentage of US male population between 5'10\\\" and 6'1\\\":{percentage_in_range:.2f}%\")"
   ]
  },
  {
   "cell_type": "markdown",
   "metadata": {
    "id": "oziIAUjPQSSm"
   },
   "source": [
    "\n",
    "\n",
    "---\n",
    "\n"
   ]
  },
  {
   "cell_type": "markdown",
   "metadata": {},
   "source": [
    "# Excercise 5-2"
   ]
  },
  {
   "cell_type": "markdown",
   "metadata": {},
   "source": [
    "Pareto Distribution for heights"
   ]
  },
  {
   "cell_type": "code",
   "execution_count": 32,
   "metadata": {},
   "outputs": [],
   "source": [
    "x_m = 1   # minimum value\n",
    "alpha = 1.7"
   ]
  },
  {
   "cell_type": "markdown",
   "metadata": {},
   "source": [
    "Generate a Pareto Distribution"
   ]
  },
  {
   "cell_type": "code",
   "execution_count": 11,
   "metadata": {},
   "outputs": [],
   "source": [
    "s = (np.random.pareto(alpha, 1000) + 1) * x_m"
   ]
  },
  {
   "cell_type": "markdown",
   "metadata": {},
   "source": [
    "Plot the distribution"
   ]
  },
  {
   "cell_type": "code",
   "execution_count": 12,
   "metadata": {},
   "outputs": [
    {
     "data": {
      "image/png": "[encoded data removed]",
      "text/plain": [
       "<Figure size 640x480 with 1 Axes>"
      ]
     },
     "metadata": {},
     "output_type": "display_data"
    }
   ],
   "source": [
    "count, bins, _ = plt.hist(s, bins=100, density=True, alpha=0.75,color='blue')\n",
    "plt.xscale('log')\n",
    "plt.title('Pareto Distribution of Human Heights')\n",
    "plt.xlabel('Height (m)')\n",
    "plt.ylabel('Frequency')\n",
    "plt.show()"
   ]
  },
  {
   "cell_type": "markdown",
   "metadata": {},
   "source": [
    "Calculate the mean height"
   ]
  },
  {
   "cell_type": "code",
   "execution_count": 33,
   "metadata": {},
   "outputs": [
    {
     "name": "stdout",
     "output_type": "stream",
     "text": [
      "Mean height in Pareto world: 2.43 m\n"
     ]
    }
   ],
   "source": [
    "mean_height = alpha * x_m / (alpha - 1)\n",
    "print(f\"Mean height in Pareto world: {mean_height:.2f} m\")"
   ]
  },
  {
   "cell_type": "markdown",
   "metadata": {},
   "source": [
    "Fraction of the population shorter than the mean"
   ]
  },
  {
   "cell_type": "code",
   "execution_count": 14,
   "metadata": {},
   "outputs": [
    {
     "name": "stdout",
     "output_type": "stream",
     "text": [
      "Fraction of the population shorter than the mean: 0.78\n"
     ]
    }
   ],
   "source": [
    "fraction_shorter = stats.pareto.cdf(mean_height / x_m, alpha)\n",
    "print(f\"Fraction of the population shorter than the mean: {fraction_shorter:.2f}\")"
   ]
  },
  {
   "cell_type": "markdown",
   "metadata": {},
   "source": [
    "Expected number of people taller than 1km"
   ]
  },
  {
   "cell_type": "code",
   "execution_count": 15,
   "metadata": {},
   "outputs": [
    {
     "name": "stdout",
     "output_type": "stream",
     "text": [
      "Number of people expected to be taller than 1km: 55603\n"
     ]
    }
   ],
   "source": [
    "height_1km = 1000  # 1km in meters\n",
    "prob_taller_1km = 1 - stats.pareto.cdf(height_1km / x_m, alpha)\n",
    "expected_taller_1km = prob_taller_1km * 7_000_000_000\n",
    "print(f\"Number of people expected to be taller than 1km: { expected_taller_1km:.0f}\")"
   ]
  },
  {
   "cell_type": "markdown",
   "metadata": {},
   "source": [
    "Expected height of the tallest person"
   ]
  },
  {
   "cell_type": "code",
   "execution_count": 16,
   "metadata": {},
   "outputs": [
    {
     "name": "stdout",
     "output_type": "stream",
     "text": [
      "Expected height of the tallest person:618349.68 m\n"
     ]
    }
   ],
   "source": [
    "tallest_person = x_m * (7_000_000_000 **(1/alpha))\n",
    "print(f\"Expected height of the tallest person:{tallest_person:.2f} m\")"
   ]
  },
  {
   "cell_type": "markdown",
   "metadata": {},
   "source": [
    "# Exercise 6-1 Skewness of Income Distribution"
   ]
  },
  {
   "cell_type": "code",
   "execution_count": 42,
   "metadata": {},
   "outputs": [
    {
     "name": "stdout",
     "output_type": "stream",
     "text": [
      "Collecting thinkx\n",
      "  Downloading thinkx-1.1.3.tar.gz (41 kB)\n",
      "\u001b[2K     \u001b[90m━━━━━━━━━━━━━━━━━━━━━━━━━━━━━━━━━━━━━━━\u001b[0m \u001b[32m41.2/41.2 kB\u001b[0m \u001b[31m633.3 kB/s\u001b[0m eta \u001b[36m0:00:00\u001b[0m0:01\u001b[0m\n",
      "\u001b[?25h  Preparing metadata (setup.py) ... \u001b[?25ldone\n",
      "\u001b[?25hRequirement already satisfied: matplotlib in /Users/cheryl/anaconda3/lib/python3.11/site-packages (from thinkx) (3.7.1)\n",
      "Requirement already satisfied: numpy in /Users/cheryl/anaconda3/lib/python3.11/site-packages (from thinkx) (1.24.3)\n",
      "Requirement already satisfied: pandas in /Users/cheryl/anaconda3/lib/python3.11/site-packages (from thinkx) (1.5.3)\n",
      "Requirement already satisfied: scipy in /Users/cheryl/anaconda3/lib/python3.11/site-packages (from thinkx) (1.10.1)\n",
      "Requirement already satisfied: markdown in /Users/cheryl/anaconda3/lib/python3.11/site-packages (from thinkx) (3.4.1)\n",
      "Requirement already satisfied: contourpy>=1.0.1 in /Users/cheryl/anaconda3/lib/python3.11/site-packages (from matplotlib->thinkx) (1.0.5)\n",
      "Requirement already satisfied: cycler>=0.10 in /Users/cheryl/anaconda3/lib/python3.11/site-packages (from matplotlib->thinkx) (0.11.0)\n",
      "Requirement already satisfied: fonttools>=4.22.0 in /Users/cheryl/anaconda3/lib/python3.11/site-packages (from matplotlib->thinkx) (4.25.0)\n",
      "Requirement already satisfied: kiwisolver>=1.0.1 in /Users/cheryl/anaconda3/lib/python3.11/site-packages (from matplotlib->thinkx) (1.4.4)\n",
      "Requirement already satisfied: packaging>=20.0 in /Users/cheryl/anaconda3/lib/python3.11/site-packages (from matplotlib->thinkx) (23.0)\n",
      "Requirement already satisfied: pillow>=6.2.0 in /Users/cheryl/anaconda3/lib/python3.11/site-packages (from matplotlib->thinkx) (9.4.0)\n",
      "Requirement already satisfied: pyparsing>=2.3.1 in /Users/cheryl/anaconda3/lib/python3.11/site-packages (from matplotlib->thinkx) (3.0.9)\n",
      "Requirement already satisfied: python-dateutil>=2.7 in /Users/cheryl/anaconda3/lib/python3.11/site-packages (from matplotlib->thinkx) (2.8.2)\n",
      "Requirement already satisfied: pytz>=2020.1 in /Users/cheryl/anaconda3/lib/python3.11/site-packages (from pandas->thinkx) (2022.7)\n",
      "Requirement already satisfied: six>=1.5 in /Users/cheryl/anaconda3/lib/python3.11/site-packages (from python-dateutil>=2.7->matplotlib->thinkx) (1.16.0)\n",
      "Building wheels for collected packages: thinkx\n",
      "  Building wheel for thinkx (setup.py) ... \u001b[?25ldone\n",
      "\u001b[?25h  Created wheel for thinkx: filename=thinkx-1.1.3-py3-none-any.whl size=59925 sha256=25c118fcc54b91bb7e8bad9bb096b2b60f114d5b1372ba42cbeb286bcecb5779\n",
      "  Stored in directory: /Users/cheryl/Library/Caches/pip/wheels/26/b4/cc/8819524bab9b9a5206fcd073d76db5dc5b7f6c37f186974e0e\n",
      "Successfully built thinkx\n",
      "Installing collected packages: thinkx\n",
      "Successfully installed thinkx-1.1.3\n",
      "Note: you may need to restart the kernel to use updated packages.\n"
     ]
    }
   ],
   "source": [
    "pip install thinkx"
   ]
  },
  {
   "cell_type": "code",
   "execution_count": 34,
   "metadata": {},
   "outputs": [],
   "source": [
    "def InterpolateSample(df, log_upper=6.0):\n",
    " df['log_upper'] = np.log10(df.income)\n",
    " df['log_lower'] = df.log_upper.shift(1)\n",
    " df.loc[0, 'log_lower'] = 3.0\n",
    " df.loc[41, 'log_upper'] = log_upper\n",
    " arrays = []\n",
    " for _, row in df.iterrows():\n",
    "        vals = np.linspace(row.log_lower, row.log_upper, int(row.freq))\n",
    "        arrays.append(vals)\n",
    "        \n",
    " log_sample = np.concatenate(arrays)\n",
    " return log_sample\n"
   ]
  },
  {
   "cell_type": "markdown",
   "metadata": {},
   "source": [
    "Download the CSV file"
   ]
  },
  {
   "cell_type": "code",
   "execution_count": 35,
   "metadata": {},
   "outputs": [],
   "source": [
    "download(\"https://github.com/AllenDowney/ThinkStats2/raw/master/code/hinc.py\")\n",
    "download(\"https://github.com/AllenDowney/ThinkStats2/raw/master/code/hinc06.csv\")"
   ]
  },
  {
   "cell_type": "markdown",
   "metadata": {},
   "source": [
    "Import and read csv file "
   ]
  },
  {
   "cell_type": "code",
   "execution_count": 36,
   "metadata": {},
   "outputs": [],
   "source": [
    "import hinc\n",
    "income_df = hinc.ReadData()"
   ]
  },
  {
   "cell_type": "markdown",
   "metadata": {},
   "source": [
    "Interpolate income income ranges"
   ]
  },
  {
   "cell_type": "code",
   "execution_count": 37,
   "metadata": {},
   "outputs": [],
   "source": [
    "log_sample = InterpolateSample(income_df, log_upper=6.0)"
   ]
  },
  {
   "cell_type": "markdown",
   "metadata": {},
   "source": [
    "Plot Graph for Household income"
   ]
  },
  {
   "cell_type": "code",
   "execution_count": 41,
   "metadata": {},
   "outputs": [
    {
     "ename": "NameError",
     "evalue": "name 'thinkstats2' is not defined",
     "output_type": "error",
     "traceback": [
      "\u001b[0;31m---------------------------------------------------------------------------\u001b[0m",
      "\u001b[0;31mNameError\u001b[0m                                 Traceback (most recent call last)",
      "Cell \u001b[0;32mIn[41], line 1\u001b[0m\n\u001b[0;32m----> 1\u001b[0m log_cdf \u001b[38;5;241m=\u001b[39m thinkstats2\u001b[38;5;241m.\u001b[39mCdf(log_sample) \u001b[38;5;66;03m# type: ignore\u001b[39;00m\n\u001b[1;32m      2\u001b[0m thinkplot\u001b[38;5;241m.\u001b[39mCdf(log_cdf) \u001b[38;5;66;03m# type: ignore\u001b[39;00m\n\u001b[1;32m      3\u001b[0m thinkplot\u001b[38;5;241m.\u001b[39mConfig(xlabel\u001b[38;5;241m=\u001b[39m\u001b[38;5;124m'\u001b[39m\u001b[38;5;124mHousehold income (log $)\u001b[39m\u001b[38;5;124m'\u001b[39m, \u001b[38;5;66;03m# type: ignore\u001b[39;00m\n\u001b[1;32m      4\u001b[0m                ylabel\u001b[38;5;241m=\u001b[39m\u001b[38;5;124m'\u001b[39m\u001b[38;5;124mCDF\u001b[39m\u001b[38;5;124m'\u001b[39m)\n",
      "\u001b[0;31mNameError\u001b[0m: name 'thinkstats2' is not defined"
     ]
    }
   ],
   "source": [
    "log_cdf = thinkstats2.Cdf(log_sample) # type: ignore\n",
    "thinkplot.Cdf(log_cdf) # type: ignore\n",
    "thinkplot.Config(xlabel='Household income (log $)', # type: ignore\n",
    "               ylabel='CDF')"
   ]
  },
  {
   "cell_type": "code",
   "execution_count": null,
   "metadata": {},
   "outputs": [
    {
     "ename": "NameError",
     "evalue": "name 'np' is not defined",
     "output_type": "error",
     "traceback": [
      "\u001b[0;31m---------------------------------------------------------------------------\u001b[0m",
      "\u001b[0;31mNameError\u001b[0m                                 Traceback (most recent call last)",
      "Cell \u001b[0;32mIn[2], line 1\u001b[0m\n\u001b[0;32m----> 1\u001b[0m sample \u001b[38;5;241m=\u001b[39m np\u001b[38;5;241m.\u001b[39mpower(\u001b[38;5;241m10\u001b[39m, log_sample)\n",
      "\u001b[0;31mNameError\u001b[0m: name 'np' is not defined"
     ]
    }
   ],
   "source": [
    "sample = np.power(10, log_sample)"
   ]
  },
  {
   "cell_type": "code",
   "execution_count": null,
   "metadata": {},
   "outputs": [
    {
     "data": {
      "image/png": "[encoded data removed]",
      "text/plain": [
       "<Figure size 640x480 with 1 Axes>"
      ]
     },
     "metadata": {},
     "output_type": "display_data"
    }
   ],
   "source": [
    "cdf = thinkstats2.Cdf(sample)\n",
    "thinkplot.Cdf(cdf)\n",
    "thinkplot.Config(xlabel='Household income ($)',\n",
    "               ylabel='CDF')"
   ]
  },
  {
   "cell_type": "code",
   "execution_count": null,
   "metadata": {},
   "outputs": [],
   "source": []
  }
 ],
 "metadata": {
  "colab": {
   "provenance": []
  },
  "kernelspec": {
   "display_name": "Python 3",
   "language": "python",
   "name": "python3"
  },
  "language_info": {
   "codemirror_mode": {
    "name": "ipython",
    "version": 3
   },
   "file_extension": ".py",
   "mimetype": "text/x-python",
   "name": "python",
   "nbconvert_exporter": "python",
   "pygments_lexer": "ipython3",
   "version": "3.11.3"
  }
 },
 "nbformat": 4,
 "nbformat_minor": 4
}
