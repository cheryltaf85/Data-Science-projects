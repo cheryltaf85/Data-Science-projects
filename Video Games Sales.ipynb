{
 "cells": [
  {
   "cell_type": "markdown",
   "metadata": {},
   "source": [
    "Load the dataset as a Pandas data frame."
   ]
  },
  {
   "cell_type": "code",
   "execution_count": 1,
   "metadata": {},
   "outputs": [],
   "source": [
    "import pandas as pd"
   ]
  },
  {
   "cell_type": "code",
   "execution_count": 7,
   "metadata": {},
   "outputs": [
    {
     "name": "stdout",
     "output_type": "stream",
     "text": [
      "                        Name Platform  Year_of_Release         Genre  \\\n",
      "0                 Wii Sports      Wii           2006.0        Sports   \n",
      "1          Super Mario Bros.      NES           1985.0      Platform   \n",
      "2             Mario Kart Wii      Wii           2008.0        Racing   \n",
      "3          Wii Sports Resort      Wii           2009.0        Sports   \n",
      "4   Pokemon Red/Pokemon Blue       GB           1996.0  Role-Playing   \n",
      "5                     Tetris       GB           1989.0        Puzzle   \n",
      "6      New Super Mario Bros.       DS           2006.0      Platform   \n",
      "7                   Wii Play      Wii           2006.0          Misc   \n",
      "8  New Super Mario Bros. Wii      Wii           2009.0      Platform   \n",
      "9                  Duck Hunt      NES           1984.0       Shooter   \n",
      "\n",
      "  Publisher  NA_Sales  EU_Sales  JP_Sales  Other_Sales  Global_Sales  \\\n",
      "0  Nintendo     41.36     28.96      3.77         8.45         82.53   \n",
      "1  Nintendo     29.08      3.58      6.81         0.77         40.24   \n",
      "2  Nintendo     15.68     12.76      3.79         3.29         35.52   \n",
      "3  Nintendo     15.61     10.93      3.28         2.95         32.77   \n",
      "4  Nintendo     11.27      8.89     10.22         1.00         31.37   \n",
      "5  Nintendo     23.20      2.26      4.22         0.58         30.26   \n",
      "6  Nintendo     11.28      9.14      6.50         2.88         29.80   \n",
      "7  Nintendo     13.96      9.18      2.93         2.84         28.92   \n",
      "8  Nintendo     14.44      6.94      4.70         2.24         28.32   \n",
      "9  Nintendo     26.93      0.63      0.28         0.47         28.31   \n",
      "\n",
      "   Critic_Score  Critic_Count User_Score  User_Count Developer Rating  \n",
      "0          76.0          51.0          8       322.0  Nintendo      E  \n",
      "1           NaN           NaN        NaN         NaN       NaN    NaN  \n",
      "2          82.0          73.0        8.3       709.0  Nintendo      E  \n",
      "3          80.0          73.0          8       192.0  Nintendo      E  \n",
      "4           NaN           NaN        NaN         NaN       NaN    NaN  \n",
      "5           NaN           NaN        NaN         NaN       NaN    NaN  \n",
      "6          89.0          65.0        8.5       431.0  Nintendo      E  \n",
      "7          58.0          41.0        6.6       129.0  Nintendo      E  \n",
      "8          87.0          80.0        8.4       594.0  Nintendo      E  \n",
      "9           NaN           NaN        NaN         NaN       NaN    NaN  \n"
     ]
    }
   ],
   "source": [
    "# Load dataset\n",
    "df = pd.read_csv (\"/Users/cheryl/Downloads/Video_Games_Sales_as_at_22_Dec_2016.csv\")\n",
    "\n",
    "# Display first 10 rows of dataframe\n",
    "print(df.head(10))"
   ]
  },
  {
   "cell_type": "markdown",
   "metadata": {},
   "source": [
    "Display the first ten rows of data."
   ]
  },
  {
   "cell_type": "code",
   "execution_count": 8,
   "metadata": {},
   "outputs": [],
   "source": [
    "dimensions = df.shape"
   ]
  },
  {
   "cell_type": "markdown",
   "metadata": {},
   "source": [
    "Find the dimensions (number of rows and columns) in the data frame. What do these two numbers represent in the context of the data?"
   ]
  },
  {
   "cell_type": "code",
   "execution_count": 9,
   "metadata": {},
   "outputs": [
    {
     "name": "stdout",
     "output_type": "stream",
     "text": [
      "Number of rows:16719\n",
      "Number of columns:16\n"
     ]
    }
   ],
   "source": [
    "print(f\"Number of rows:{dimensions[0]}\")\n",
    "print(f\"Number of columns:{dimensions[1]}\")"
   ]
  },
  {
   "cell_type": "markdown",
   "metadata": {},
   "source": [
    "Find the top five games by critic score."
   ]
  },
  {
   "cell_type": "code",
   "execution_count": 11,
   "metadata": {},
   "outputs": [
    {
     "name": "stdout",
     "output_type": "stream",
     "text": [
      "                          Name Platform  Year_of_Release     Genre  \\\n",
      "51         Grand Theft Auto IV     X360           2008.0    Action   \n",
      "57         Grand Theft Auto IV      PS3           2008.0    Action   \n",
      "227   Tony Hawk's Pro Skater 2       PS           2000.0    Sports   \n",
      "5350               SoulCalibur       DC           1999.0  Fighting   \n",
      "16          Grand Theft Auto V      PS3           2013.0    Action   \n",
      "\n",
      "                 Publisher  NA_Sales  EU_Sales  JP_Sales  Other_Sales  \\\n",
      "51    Take-Two Interactive      6.76      3.07      0.14         1.03   \n",
      "57    Take-Two Interactive      4.76      3.69      0.44         1.61   \n",
      "227             Activision      3.05      1.41      0.02         0.20   \n",
      "5350    Namco Bandai Games      0.00      0.00      0.34         0.00   \n",
      "16    Take-Two Interactive      7.02      9.09      0.98         3.96   \n",
      "\n",
      "      Global_Sales  Critic_Score  Critic_Count User_Score  User_Count  \\\n",
      "51           11.01          98.0          86.0        7.9      2951.0   \n",
      "57           10.50          98.0          64.0        7.5      2833.0   \n",
      "227           4.68          98.0          19.0        7.7       299.0   \n",
      "5350          0.34          98.0          24.0        8.8       200.0   \n",
      "16           21.04          97.0          50.0        8.2      3994.0   \n",
      "\n",
      "                    Developer Rating  \n",
      "51             Rockstar North      M  \n",
      "57             Rockstar North      M  \n",
      "227   Neversoft Entertainment      T  \n",
      "5350                    Namco      T  \n",
      "16             Rockstar North      M  \n"
     ]
    }
   ],
   "source": [
    "top_5_games = df.nlargest(5,'Critic_Score') \n",
    "\n",
    "print(top_5_games)"
   ]
  },
  {
   "cell_type": "markdown",
   "metadata": {},
   "source": [
    "Find the number of video games in the data frame in each genre."
   ]
  },
  {
   "cell_type": "code",
   "execution_count": 12,
   "metadata": {},
   "outputs": [
    {
     "name": "stdout",
     "output_type": "stream",
     "text": [
      "Action          3370\n",
      "Sports          2348\n",
      "Misc            1750\n",
      "Role-Playing    1500\n",
      "Shooter         1323\n",
      "Adventure       1303\n",
      "Racing          1249\n",
      "Platform         888\n",
      "Simulation       874\n",
      "Fighting         849\n",
      "Strategy         683\n",
      "Puzzle           580\n",
      "Name: Genre, dtype: int64\n"
     ]
    }
   ],
   "source": [
    "genre_counts = df['Genre'].value_counts()\n",
    "print(genre_counts)"
   ]
  },
  {
   "cell_type": "markdown",
   "metadata": {},
   "source": [
    "Find the first five games in the data frame on the SNES platform."
   ]
  },
  {
   "cell_type": "code",
   "execution_count": 13,
   "metadata": {},
   "outputs": [
    {
     "name": "stdout",
     "output_type": "stream",
     "text": [
      "                                     Name Platform  Year_of_Release     Genre  \\\n",
      "18                      Super Mario World     SNES           1990.0  Platform   \n",
      "56                  Super Mario All-Stars     SNES           1993.0  Platform   \n",
      "71                    Donkey Kong Country     SNES           1994.0  Platform   \n",
      "76                       Super Mario Kart     SNES           1992.0    Racing   \n",
      "137  Street Fighter II: The World Warrior     SNES           1992.0  Fighting   \n",
      "\n",
      "    Publisher  NA_Sales  EU_Sales  JP_Sales  Other_Sales  Global_Sales  \\\n",
      "18   Nintendo     12.78      3.75      3.54         0.55         20.61   \n",
      "56   Nintendo      5.99      2.15      2.12         0.29         10.55   \n",
      "71   Nintendo      4.36      1.71      3.00         0.23          9.30   \n",
      "76   Nintendo      3.54      1.24      3.81         0.18          8.76   \n",
      "137    Capcom      2.47      0.83      2.87         0.12          6.30   \n",
      "\n",
      "     Critic_Score  Critic_Count User_Score  User_Count Developer Rating  \n",
      "18            NaN           NaN        NaN         NaN       NaN    NaN  \n",
      "56            NaN           NaN        NaN         NaN       NaN    NaN  \n",
      "71            NaN           NaN        NaN         NaN       NaN    NaN  \n",
      "76            NaN           NaN        NaN         NaN       NaN    NaN  \n",
      "137           NaN           NaN        NaN         NaN       NaN    NaN  \n"
     ]
    }
   ],
   "source": [
    "snes_games = df[df['Platform'] == 'SNES'].head(5)\n",
    "print(snes_games)"
   ]
  },
  {
   "cell_type": "markdown",
   "metadata": {},
   "source": [
    "Find the five publishers with the highest total global sales. Note: You will need to calculate the total global sales for each publisher to do this.\n"
   ]
  },
  {
   "cell_type": "code",
   "execution_count": 14,
   "metadata": {},
   "outputs": [
    {
     "name": "stdout",
     "output_type": "stream",
     "text": [
      "Publisher\n",
      "Nintendo                       1788.81\n",
      "Electronic Arts                1116.96\n",
      "Activision                      731.16\n",
      "Sony Computer Entertainment     606.48\n",
      "Ubisoft                         471.61\n",
      "Name: Global_Sales, dtype: float64\n"
     ]
    }
   ],
   "source": [
    "publisher_sales = df.groupby('Publisher')['Global_Sales'].sum()\n",
    "top_publishers = publisher_sales.nlargest(5)\n",
    "print(top_publishers)"
   ]
  },
  {
   "cell_type": "markdown",
   "metadata": {},
   "source": [
    "Create a new column in the data frame that calculates the percentage of global sales from North America. Display the first five rows of the new data frame."
   ]
  },
  {
   "cell_type": "code",
   "execution_count": 15,
   "metadata": {},
   "outputs": [
    {
     "name": "stdout",
     "output_type": "stream",
     "text": [
      "                       Name Platform  Year_of_Release         Genre Publisher  \\\n",
      "0                Wii Sports      Wii           2006.0        Sports  Nintendo   \n",
      "1         Super Mario Bros.      NES           1985.0      Platform  Nintendo   \n",
      "2            Mario Kart Wii      Wii           2008.0        Racing  Nintendo   \n",
      "3         Wii Sports Resort      Wii           2009.0        Sports  Nintendo   \n",
      "4  Pokemon Red/Pokemon Blue       GB           1996.0  Role-Playing  Nintendo   \n",
      "\n",
      "   NA_Sales  EU_Sales  JP_Sales  Other_Sales  Global_Sales  Critic_Score  \\\n",
      "0     41.36     28.96      3.77         8.45         82.53          76.0   \n",
      "1     29.08      3.58      6.81         0.77         40.24           NaN   \n",
      "2     15.68     12.76      3.79         3.29         35.52          82.0   \n",
      "3     15.61     10.93      3.28         2.95         32.77          80.0   \n",
      "4     11.27      8.89     10.22         1.00         31.37           NaN   \n",
      "\n",
      "   Critic_Count User_Score  User_Count Developer Rating  NA_Sales_Percentage  \n",
      "0          51.0          8       322.0  Nintendo      E            50.115110  \n",
      "1           NaN        NaN         NaN       NaN    NaN            72.266402  \n",
      "2          73.0        8.3       709.0  Nintendo      E            44.144144  \n",
      "3          73.0          8       192.0  Nintendo      E            47.635032  \n",
      "4           NaN        NaN         NaN       NaN    NaN            35.926044  \n"
     ]
    }
   ],
   "source": [
    "df['NA_Sales_Percentage'] = (df['NA_Sales'] / df['Global_Sales']) *100\n",
    "print(df.head(5))"
   ]
  },
  {
   "cell_type": "markdown",
   "metadata": {},
   "source": [
    "Find the number NaN entries (missing data values) in each column."
   ]
  },
  {
   "cell_type": "code",
   "execution_count": 16,
   "metadata": {},
   "outputs": [
    {
     "name": "stdout",
     "output_type": "stream",
     "text": [
      "Name                      2\n",
      "Platform                  0\n",
      "Year_of_Release         269\n",
      "Genre                     2\n",
      "Publisher                54\n",
      "NA_Sales                  0\n",
      "EU_Sales                  0\n",
      "JP_Sales                  0\n",
      "Other_Sales               0\n",
      "Global_Sales              0\n",
      "Critic_Score           8582\n",
      "Critic_Count           8582\n",
      "User_Score             6704\n",
      "User_Count             9129\n",
      "Developer              6623\n",
      "Rating                 6769\n",
      "NA_Sales_Percentage       0\n",
      "dtype: int64\n"
     ]
    }
   ],
   "source": [
    "nan_counts = df.isna().sum()\n",
    "print(nan_counts)"
   ]
  },
  {
   "cell_type": "markdown",
   "metadata": {},
   "source": [
    "Try to calculate the median user score of all the video games. You will likely run into an error because some of the user score entries are a non-numerical string that cannot be converted to a float. Find and replace this string with NaN and then calculate the median. Then, replace all NaN entries in the user score column with the median value."
   ]
  },
  {
   "cell_type": "code",
   "execution_count": 18,
   "metadata": {},
   "outputs": [
    {
     "name": "stdout",
     "output_type": "stream",
     "text": [
      "Median User Score: 7.5\n",
      "0    8.0\n",
      "1    7.5\n",
      "2    8.3\n",
      "3    8.0\n",
      "4    7.5\n",
      "5    7.5\n",
      "6    8.5\n",
      "7    6.6\n",
      "8    8.4\n",
      "9    7.5\n",
      "Name: User_Score, dtype: float64\n"
     ]
    }
   ],
   "source": [
    "# Convert the User_Score column to numeric\n",
    "df['User_Score'] = pd.to_numeric(df['User_Score'], errors='coerce')\n",
    "\n",
    "# Calculate the median score\n",
    "median_user_score = df['User_Score'].median()\n",
    "print(f\"Median User Score: {median_user_score}\")\n",
    "\n",
    "#replace Nan entries in User_column column with the median value\n",
    "df['User_Score'].fillna(median_user_score, inplace=True)\n",
    "print(df['User_Score'].head(10))"
   ]
  }
 ],
 "metadata": {
  "colab": {
   "provenance": []
  },
  "kernelspec": {
   "display_name": "Python 3",
   "language": "python",
   "name": "python3"
  },
  "language_info": {
   "codemirror_mode": {
    "name": "ipython",
    "version": 3
   },
   "file_extension": ".py",
   "mimetype": "text/x-python",
   "name": "python",
   "nbconvert_exporter": "python",
   "pygments_lexer": "ipython3",
   "version": "3.11.3"
  }
 },
 "nbformat": 4,
 "nbformat_minor": 4
}
